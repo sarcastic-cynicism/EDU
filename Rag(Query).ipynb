{
 "cells": [
  {
   "cell_type": "code",
   "execution_count": 1,
   "metadata": {},
   "outputs": [],
   "source": [
    "import getpass\n",
    "import os\n",
    "\n",
    "os.environ[\"Langchain_Tracing_V2\"] = \"true\"\n",
    "LangchainApiKey = os.environ[\"Langchain_API_Key\"] = getpass.getpass(\"enter API: \")"
   ]
  },
  {
   "cell_type": "markdown",
   "metadata": {},
   "source": [
    "# Pdfs for RAG"
   ]
  },
  {
   "cell_type": "code",
   "execution_count": null,
   "metadata": {},
   "outputs": [],
   "source": [
    "#code for implementation\n"
   ]
  },
  {
   "cell_type": "markdown",
   "metadata": {},
   "source": [
    "# Recurisive text splitter "
   ]
  },
  {
   "cell_type": "code",
   "execution_count": null,
   "metadata": {},
   "outputs": [],
   "source": [
    "from langchain_text_splitters import RecursiveCharacterTextSplitter\n",
    "\n",
    "recursive_splitter = RecursiveCharacterTextSplitter(\n",
    "    chuck_size = 1000, chunk_overlap = 200, add_start_index = True\n",
    ")\n",
    "\n",
    "all_splits = recursive_splitter.split_documents()#add necessary documents that need to be split\n",
    "len = all_splits"
   ]
  },
  {
   "cell_type": "markdown",
   "metadata": {},
   "source": [
    "# vector embeddings"
   ]
  },
  {
   "cell_type": "code",
   "execution_count": null,
   "metadata": {},
   "outputs": [],
   "source": [
    "from langchain_ollama import OllamaEmbeddings\n",
    "\n",
    "embeddings = OllamaEmbeddings(model = \"llama3.2\")\n",
    "\n",
    "# insert the code to loop through the imported documents \n",
    "# should the natural language inserted be embedded as well?\n",
    "\n",
    "# vector_1 = embeddings.embed_query(all_splits[ First_document ].page_content)\n",
    "# vector_2 = embeddings.embed_query(all_splits[ Second_document ].page_content)\n",
    "\n",
    "#assert len(vector_1) == len(vector_2)\n",
    "print(\"embedding sucessful\")\n",
    "#print(vector_1[:10])"
   ]
  },
  {
   "cell_type": "markdown",
   "metadata": {},
   "source": [
    "# Store said embeddings\n",
    "(currently in memory)"
   ]
  },
  {
   "cell_type": "code",
   "execution_count": null,
   "metadata": {},
   "outputs": [],
   "source": [
    "from langchain_core.vectorstores import InMemoryVectorStore\n",
    "\n",
    "vector_store = InMemoryVectorStore(embeddings)\n",
    "# ids = vector_store.add_documents(documents=all_splits)"
   ]
  }
 ],
 "metadata": {
  "kernelspec": {
   "display_name": "base",
   "language": "python",
   "name": "python3"
  },
  "language_info": {
   "codemirror_mode": {
    "name": "ipython",
    "version": 3
   },
   "file_extension": ".py",
   "mimetype": "text/x-python",
   "name": "python",
   "nbconvert_exporter": "python",
   "pygments_lexer": "ipython3",
   "version": "3.12.4"
  }
 },
 "nbformat": 4,
 "nbformat_minor": 2
}
