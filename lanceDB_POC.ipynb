{
 "cells": [
  {
   "cell_type": "markdown",
   "metadata": {},
   "source": [
    "## Multi-Agentic Framework\n",
    "\n",
    "*copied code from __[lanceDB](https://blog.lancedb.com/multi-document-agentic-rag-a-walkthrough/)__ multi-agentic for proof of concept*"
   ]
  },
  {
   "cell_type": "code",
   "execution_count": null,
   "metadata": {},
   "outputs": [],
   "source": [
    "import os\n",
    "import tqdm\n",
    "import json\n",
    "import time\n",
    "from typing import List, Optional, Dict, Any\n",
    "from tqdm import tqdm\n",
    "import logging\n",
    "from llama_index.core import (\n",
    "    SimpleDirectoryReader,\n",
    "    VectorStoreIndex,\n",
    "    StorageContext,\n",
    "    Settings,\n",
    "    Document,\n",
    ")\n",
    "from datetime import datetime, timedelta\n",
    "from llama_index.core.node_parser import SentenceSplitter\n",
    "from llama_index.vector_stores.lancedb import LanceDBVectorStore\n",
    "from llama_index.llms.openai import OpenAI\n",
    "from llama_index.embeddings.huggingface import HuggingFaceEmbedding\n",
    "from llama_index.core.tools import FunctionTool, ToolOutput\n",
    "from llama_index.core.retrievers import VectorIndexRetriever\n",
    "from llama_index.core.agent import FunctionCallingAgentWorker\n",
    "from llama_index.core.agent import AgentRunner"
   ]
  },
  {
   "cell_type": "markdown",
   "metadata": {},
   "source": [
    "*I copied the imports so all of them are probably unecessary*"
   ]
  },
  {
   "cell_type": "code",
   "execution_count": null,
   "metadata": {},
   "outputs": [],
   "source": [
    "tablenameVectorStore = LanceDBVectorStore(\n",
    "    uri='./lancedb',\n",
    "    table_name='',\n",
    "    mode=\"overwrite\",\n",
    ")\n",
    "\n",
    "#followed by any other task specific Vector Storage space "
   ]
  },
  {
   "cell_type": "markdown",
   "metadata": {},
   "source": [
    "# Index Json"
   ]
  },
  {
   "cell_type": "code",
   "execution_count": null,
   "metadata": {},
   "outputs": [],
   "source": [
    "def loadAndIndexDocument(file_path: str, vector_store: LanceDBVectorStore) -> VectorStoreIndex:\n",
    "    '''load document'''\n",
    "\n",
    "    with open(file_path,'r') as f:\n",
    "        data = json.load(f)\n",
    "        document = Document(text = json.dumps(data))\n",
    "        \n",
    "    parser = SentenceSplitter(chunk_size = 1024, chunk_overlap = 200)\n",
    "    nodes = parser.get_nodes_from_documents([document])\n",
    "    storageContext = StorageContext.from_defaults(vector_store=vector_store)\n",
    "    return VectorStoreIndex(nodes, storageContext=storageContext)"
   ]
  },
  {
   "cell_type": "markdown",
   "metadata": {},
   "source": [
    "nameof_index = loadAndIndexDocument(\n",
    "    \"problems.json\", problems_vector_store\n",
    ")"
   ]
  },
  {
   "cell_type": "markdown",
   "metadata": {},
   "source": [
    "# Retriver"
   ]
  },
  {
   "cell_type": "code",
   "execution_count": null,
   "metadata": {},
   "outputs": [],
   "source": [
    "def createRetriver(index: VectorStoreIndex)-> VectorIndexRetriever:\n",
    "    return index.as_retriever()"
   ]
  },
  {
   "cell_type": "markdown",
   "metadata": {},
   "source": [
    "Create retrievers -\n",
    "nameof_retriever = create_retriever(document_index)"
   ]
  }
 ],
 "metadata": {
  "kernelspec": {
   "display_name": "base",
   "language": "python",
   "name": "python3"
  },
  "language_info": {
   "name": "python",
   "version": "3.12.2"
  }
 },
 "nbformat": 4,
 "nbformat_minor": 2
}
