{
 "cells": [
  {
   "cell_type": "markdown",
   "metadata": {},
   "source": [
    "## Multi-Agentic Framework\n",
    "\n",
    "*copied code from __[lanceDB](https://blog.lancedb.com/multi-document-agentic-rag-a-walkthrough/)__ multi-agentic for proof of concept*"
   ]
  },
  {
   "cell_type": "code",
   "execution_count": null,
   "metadata": {},
   "outputs": [],
   "source": [
    "import os\n",
    "import tqdm\n",
    "import json\n",
    "import time\n",
    "from typing import List, Optional, Dict, Any\n",
    "from tqdm import tqdm\n",
    "import logging\n",
    "from llama_index.core import (\n",
    "    SimpleDirectoryReader,\n",
    "    VectorStoreIndex,\n",
    "    StorageContext,\n",
    "    Settings,\n",
    "    Document,\n",
    ")\n",
    "from datetime import datetime, timedelta\n",
    "from llama_index.core.node_parser import SentenceSplitter\n",
    "from llama_index.vector_stores.lancedb import LanceDBVectorStore\n",
    "from llama_index.llms.openai import OpenAI\n",
    "from llama_index.embeddings.huggingface import HuggingFaceEmbedding\n",
    "from llama_index.core.tools import FunctionTool, ToolOutput\n",
    "from llama_index.core.retrievers import VectorIndexRetriever\n",
    "from llama_index.core.agent import FunctionCallingAgentWorker\n",
    "from llama_index.core.agent import AgentRunner"
   ]
  },
  {
   "cell_type": "code",
   "execution_count": null,
   "metadata": {},
   "outputs": [],
   "source": [
    "problems_vector_store = LanceDBVectorStore(\n",
    "    uri='./lancedb',\n",
    "    table_name='',\n",
    "    mode=\"overwrite\",\n",
    ")\n",
    "\n",
    "#followed by any other task specific Vector Storage space "
   ]
  },
  {
   "cell_type": "code",
   "execution_count": null,
   "metadata": {},
   "outputs": [],
   "source": [
    "def load_and_index_document_from_file(\n",
    "    file_path: str, vector_store: LanceDBVectorStore) -> VectorStoreIndex:"
   ]
  }
 ],
 "metadata": {
  "kernelspec": {
   "display_name": "base",
   "language": "python",
   "name": "python3"
  },
  "language_info": {
   "name": "python",
   "version": "3.12.2"
  }
 },
 "nbformat": 4,
 "nbformat_minor": 2
}
